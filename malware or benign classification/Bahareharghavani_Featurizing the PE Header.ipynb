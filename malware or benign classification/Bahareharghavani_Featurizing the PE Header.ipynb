{
 "cells": [
  {
   "cell_type": "markdown",
   "metadata": {},
   "source": [
    "In this exercise, we use the pefile module to analyze PE malware samples in the \"Mediyes\" folder. The goal is to extract the names of the PE sections, as well as the names of imported DLLs from each sample. "
   ]
  },
  {
   "cell_type": "code",
   "execution_count": 2,
   "metadata": {},
   "outputs": [
    {
     "name": "stdout",
     "output_type": "stream",
     "text": [
      "Defaulting to user installation because normal site-packages is not writeable\n",
      "Collecting pefile\n",
      "  Downloading pefile-2023.2.7-py3-none-any.whl (71 kB)\n",
      "\u001b[2K     \u001b[90m━━━━━━━━━━━━━━━━━━━━━━━━━━━━━━━━━━━━━━━━\u001b[0m \u001b[32m71.8/71.8 KB\u001b[0m \u001b[31m2.0 MB/s\u001b[0m eta \u001b[36m0:00:00\u001b[0m\n",
      "\u001b[?25hInstalling collected packages: pefile\n",
      "Successfully installed pefile-2023.2.7\n"
     ]
    }
   ],
   "source": [
    "# To install pefile, uncomment and execute the following line:\n",
    "!pip install pefile"
   ]
  },
  {
   "cell_type": "code",
   "execution_count": 6,
   "metadata": {},
   "outputs": [],
   "source": [
    "from os import listdir\n",
    "from os.path import isfile, join\n",
    "directories = [\"Mediyes\"]\n",
    "import pefile"
   ]
  },
  {
   "cell_type": "code",
   "execution_count": 4,
   "metadata": {},
   "outputs": [],
   "source": [
    "# takes input such as [b'ADVAPI32.dll', b'KERNEL32.dll', b'msvcrt.dll']\n",
    "# and converts case to lower and removes .dll \n",
    "def preprocessImports(listOfDLLs):\n",
    "    processedListOfDLLs = []\n",
    "    return [x.decode().split(\".\")[0].lower() for x in listOfDLLs]\n",
    "\n",
    "def getImports(pe):\n",
    "    listOfImports = []\n",
    "    for entry in pe.DIRECTORY_ENTRY_IMPORT:\n",
    "        listOfImports.append(entry.dll)\n",
    "    return preprocessImports(listOfImports)\n",
    "\n",
    "def getSectionNames(pe):\n",
    "    listOfSectionNames = []\n",
    "    for eachSection in pe.sections:\n",
    "        refined_name = eachSection.Name.decode().replace('\\x00','').lower()\n",
    "        listOfSectionNames.append(refined_name)\n",
    "    return listOfSectionNames"
   ]
  },
  {
   "cell_type": "markdown",
   "metadata": {},
   "source": [
    "The following block may take a couple of minutes to run. It is OK to see 'utf-8' decoding error messages for some of the files."
   ]
  },
  {
   "cell_type": "code",
   "execution_count": 5,
   "metadata": {},
   "outputs": [
    {
     "name": "stdout",
     "output_type": "stream",
     "text": [
      "['Mediyes']\n",
      "'utf-8' codec can't decode byte 0xb1 in position 0: invalid start byte\n",
      "Unable to obtain imports from Mediyes/VirusShare_1a89b7d4fb8ded72e1f8e81ee9352262.exe\n",
      "'utf-8' codec can't decode byte 0xb8 in position 0: invalid start byte\n",
      "Unable to obtain imports from Mediyes/VirusShare_7a30183b105b4200fc201925aba4886c.exe\n",
      "'utf-8' codec can't decode byte 0x8d in position 0: invalid start byte\n",
      "Unable to obtain imports from Mediyes/VirusShare_14f3035781bb698c37ad287483af569e.exe\n"
     ]
    }
   ],
   "source": [
    "importsCorpus = []\n",
    "numSections = []\n",
    "sectionNames = []\n",
    "print (directories)\n",
    "for datasetPath in directories:\n",
    "    samples = [f for f in listdir(datasetPath) if isfile(join(datasetPath,f))]\n",
    "    for file in samples:\n",
    "        filePath = datasetPath+\"/\"+file\n",
    "        try:\n",
    "            pe = pefile.PE(filePath)\n",
    "            imports = getImports(pe)\n",
    "            nSections = len(pe.sections)\n",
    "            secNames = getSectionNames(pe)\n",
    "            importsCorpus.append(imports)\n",
    "            numSections.append(nSections)\n",
    "            sectionNames.append(secNames)\n",
    "                  \n",
    "        except Exception as e: \n",
    "            print(e)\n",
    "            print(\"Unable to obtain imports from \"+filePath)"
   ]
  },
  {
   "cell_type": "code",
   "execution_count": 4,
   "metadata": {},
   "outputs": [
    {
     "name": "stdout",
     "output_type": "stream",
     "text": [
      "[['ws2_32', 'rpcrt4', 'kernel32', 'user32', 'advapi32', 'ole32', 'oleaut32'], ['ntoskrnl', 'hal'], ['ws2_32', 'rpcrt4', 'kernel32', 'user32', 'advapi32', 'ole32', 'oleaut32'], ['ntoskrnl', 'hal'], ['ntoskrnl', 'hal']]\n",
      "[5, 6, 5, 7, 6]\n",
      "[['.text', '.rdata', '.data', '.rsrc', '.reloc'], ['.text', '.rdata', '.data', 'init', '.rsrc', '.reloc'], ['.text', '.rdata', '.data', '.rsrc', '.reloc'], ['.text', '.rdata', '.data', 'page', 'init', '.rsrc', '.reloc'], ['.text', '.rdata', '.data', 'init', '.rsrc', '.reloc']]\n"
     ]
    }
   ],
   "source": [
    "print(importsCorpus[0:5])\n",
    "print(numSections[0:5])\n",
    "print(sectionNames[0:5])"
   ]
  },
  {
   "cell_type": "markdown",
   "metadata": {},
   "source": [
    "**Exercise:** Find and print the names of the top 5 most frequently imported DLLs in the \"Mediyes\" malware dataset. Use a process lookup website (e.g., processlibrary.com) to find the function of each of these top 5 DLLs. Do you see anything suspicious in these calls?"
   ]
  },
  {
   "cell_type": "code",
   "execution_count": 8,
   "metadata": {},
   "outputs": [
    {
     "name": "stdout",
     "output_type": "stream",
     "text": [
      "Top 5 DLLs: [('kernel32', 302), ('advapi32', 287), ('ws2_32', 283), ('user32', 282), ('ole32', 282)]\n",
      "kernel32 is imported 302 times.\n",
      "advapi32 is imported 287 times.\n",
      "ws2_32 is imported 283 times.\n",
      "user32 is imported 282 times.\n",
      "ole32 is imported 282 times.\n"
     ]
    }
   ],
   "source": [
    "# Your code\n",
    "from collections import Counter\n",
    "\n",
    "# Assuming importsCorpus is populated with the list of DLLs from all the files as per your provided code\n",
    "all_imports = [dll for sublist in importsCorpus for dll in sublist]  # Flatten the list of lists\n",
    "dll_counts = Counter(all_imports)  # Count occurrences of each DLL\n",
    "\n",
    "# Find the top 5 most common DLLs\n",
    "top_5_dlls = dll_counts.most_common(5)\n",
    "print(\"Top 5 DLLs:\", top_5_dlls)\n",
    "\n",
    "# For each of the top 5 DLLs, you would typically lookup their functions on a process lookup website.\n",
    "# Since I can't browse the web directly, I'll list the DLLs, and you can look them up manually.\n",
    "for dll, count in top_5_dlls:\n",
    "    print(f\"{dll} is imported {count} times.\")\n",
    "    # Here you would use a process lookup website to find the function of each DLL.\n"
   ]
  },
  {
   "cell_type": "markdown",
   "metadata": {},
   "source": [
    " -- Top 5 DLLs: [('kernel32', 302), ('advapi32', 287), ('ws2_32', 283), ('user32', 282), ('ole32', 282)]\n",
    "kernel32 is imported 302 times.\n",
    "advapi32 is imported 287 times.\n",
    "ws2_32 is imported 283 times.\n",
    "user32 is imported 282 times.\n",
    "ole32 is imported 282 times."
   ]
  }
 ],
 "metadata": {
  "kernelspec": {
   "display_name": "Python 3 (ipykernel)",
   "language": "python",
   "name": "python3"
  },
  "language_info": {
   "codemirror_mode": {
    "name": "ipython",
    "version": 3
   },
   "file_extension": ".py",
   "mimetype": "text/x-python",
   "name": "python",
   "nbconvert_exporter": "python",
   "pygments_lexer": "ipython3",
   "version": "3.10.12"
  }
 },
 "nbformat": 4,
 "nbformat_minor": 4
}
